{
 "cells": [
  {
   "cell_type": "markdown",
   "metadata": {
    "colab_type": "text",
    "id": "hmIYQZIQYMJj"
   },
   "source": [
    "# K-Means Clustering\n",
    "\n",
    "Deskripsi     : Script berikut ini adalah script yang digunakan untuk melakukan K-Means Clustering\n",
    "\n",
    "Dataset       : Dataset Dummy yang terdiri dari dua variabel, yaitu variabel gaji dan pengeluaran"
   ]
  },
  {
   "cell_type": "markdown",
   "metadata": {
    "colab_type": "text",
    "id": "UWc5_ndPYMJl"
   },
   "source": [
    "## Latar Belakang\n",
    "\n",
    "Sebuah perusahaan melakukan penelitian terhadap data-data konsumen yang dimilikinya. Perusahaan tersebut akan melakukan pengelompokan data ke dalam beberapa cluster berdasarkan kriteria besaran gaji yang diterima dan pengeluaran per bulannya. \n",
    "\n",
    "\n",
    "## Bagaimana cara melakukan clustering?\n",
    "\n",
    "Langkah pertama yang mesti kita lakukan adalah dengan memanggil library atau pustaka yang dibutuhkan, yaitu matplotlib, numpy, pandas, dan sklearn. "
   ]
  },
  {
   "cell_type": "code",
   "execution_count": 21,
   "metadata": {
    "colab": {},
    "colab_type": "code",
    "id": "nE6FVvbJYMJn"
   },
   "outputs": [],
   "source": [
    "# Step 1. Memanggil Library yang dibutuhkan \n",
    "\n",
    "%matplotlib inline \n",
    "import matplotlib.pyplot as plt \n",
    "import numpy as np \n",
    "import pandas as pd \n",
    "from sklearn.cluster import KMeans"
   ]
  },
  {
   "cell_type": "markdown",
   "metadata": {
    "colab_type": "text",
    "id": "HlELzDYQYMJu"
   },
   "source": [
    "Langkah kedua adalah memanggil Dataset "
   ]
  },
  {
   "cell_type": "code",
   "execution_count": 22,
   "metadata": {
    "colab": {
     "base_uri": "https://localhost:8080/",
     "height": 34
    },
    "colab_type": "code",
    "executionInfo": {
     "elapsed": 1679,
     "status": "ok",
     "timestamp": 1591364167378,
     "user": {
      "displayName": "Bernardus Ari Kuncoro",
      "photoUrl": "https://lh3.googleusercontent.com/a-/AOh14GjH6bHvm6kXCz5hjYp3PgXaOz-6orULR60KKCw5yw=s64",
      "userId": "07819531828965038709"
     },
     "user_tz": -420
    },
    "id": "tsPUo2_TYMJv",
    "outputId": "bbe9a3ca-ec40-42d6-a78e-091a9d6685a1"
   },
   "outputs": [
    {
     "data": {
      "text/plain": [
       "Index(['gaji', 'pengeluaran'], dtype='object')"
      ]
     },
     "execution_count": 22,
     "metadata": {},
     "output_type": "execute_result"
    }
   ],
   "source": [
    "# Step 2. Memanggil dataset \n",
    "dataset = pd.read_csv('gaji_pengeluaran.csv')\n",
    "dataset.keys()"
   ]
  },
  {
   "cell_type": "code",
   "execution_count": 40,
   "metadata": {
    "colab": {
     "base_uri": "https://localhost:8080/",
     "height": 34
    },
    "colab_type": "code",
    "executionInfo": {
     "elapsed": 850,
     "status": "ok",
     "timestamp": 1591364211968,
     "user": {
      "displayName": "Bernardus Ari Kuncoro",
      "photoUrl": "https://lh3.googleusercontent.com/a-/AOh14GjH6bHvm6kXCz5hjYp3PgXaOz-6orULR60KKCw5yw=s64",
      "userId": "07819531828965038709"
     },
     "user_tz": -420
    },
    "id": "67iy5bacYMJ5",
    "outputId": "20dc0432-8aed-47fd-ecc1-16a485e1b94f"
   },
   "outputs": [
    {
     "data": {
      "text/plain": [
       "(30, 2)"
      ]
     },
     "execution_count": 40,
     "metadata": {},
     "output_type": "execute_result"
    }
   ],
   "source": [
    "# Menampilkan 5 baris data pertama \n",
    "dataset.head() #untuk menampilkan 5 baris data pertama \n",
    "dataset.shape"
   ]
  },
  {
   "cell_type": "markdown",
   "metadata": {
    "colab_type": "text",
    "id": "TGLpcfkmYMJ9"
   },
   "source": [
    "Langkah ketiga adalah dengan melakukan konversi dataset ke data array "
   ]
  },
  {
   "cell_type": "code",
   "execution_count": 41,
   "metadata": {
    "colab": {
     "base_uri": "https://localhost:8080/",
     "height": 935
    },
    "colab_type": "code",
    "executionInfo": {
     "elapsed": 829,
     "status": "ok",
     "timestamp": 1591364247597,
     "user": {
      "displayName": "Bernardus Ari Kuncoro",
      "photoUrl": "https://lh3.googleusercontent.com/a-/AOh14GjH6bHvm6kXCz5hjYp3PgXaOz-6orULR60KKCw5yw=s64",
      "userId": "07819531828965038709"
     },
     "user_tz": -420
    },
    "id": "yuUHXN8SZ21I",
    "outputId": "7591fa17-708c-46b3-d772-fd196a2f9a16"
   },
   "outputs": [
    {
     "data": {
      "text/html": [
       "<div>\n",
       "<style scoped>\n",
       "    .dataframe tbody tr th:only-of-type {\n",
       "        vertical-align: middle;\n",
       "    }\n",
       "\n",
       "    .dataframe tbody tr th {\n",
       "        vertical-align: top;\n",
       "    }\n",
       "\n",
       "    .dataframe thead th {\n",
       "        text-align: right;\n",
       "    }\n",
       "</style>\n",
       "<table border=\"1\" class=\"dataframe\">\n",
       "  <thead>\n",
       "    <tr style=\"text-align: right;\">\n",
       "      <th></th>\n",
       "      <th>gaji</th>\n",
       "      <th>pengeluaran</th>\n",
       "    </tr>\n",
       "  </thead>\n",
       "  <tbody>\n",
       "    <tr>\n",
       "      <th>0</th>\n",
       "      <td>2500</td>\n",
       "      <td>1750</td>\n",
       "    </tr>\n",
       "    <tr>\n",
       "      <th>1</th>\n",
       "      <td>3800</td>\n",
       "      <td>4200</td>\n",
       "    </tr>\n",
       "    <tr>\n",
       "      <th>2</th>\n",
       "      <td>3900</td>\n",
       "      <td>3800</td>\n",
       "    </tr>\n",
       "    <tr>\n",
       "      <th>3</th>\n",
       "      <td>4350</td>\n",
       "      <td>5500</td>\n",
       "    </tr>\n",
       "    <tr>\n",
       "      <th>4</th>\n",
       "      <td>4400</td>\n",
       "      <td>3200</td>\n",
       "    </tr>\n",
       "    <tr>\n",
       "      <th>5</th>\n",
       "      <td>5500</td>\n",
       "      <td>5450</td>\n",
       "    </tr>\n",
       "    <tr>\n",
       "      <th>6</th>\n",
       "      <td>5600</td>\n",
       "      <td>5950</td>\n",
       "    </tr>\n",
       "    <tr>\n",
       "      <th>7</th>\n",
       "      <td>5750</td>\n",
       "      <td>4100</td>\n",
       "    </tr>\n",
       "    <tr>\n",
       "      <th>8</th>\n",
       "      <td>6850</td>\n",
       "      <td>6050</td>\n",
       "    </tr>\n",
       "    <tr>\n",
       "      <th>9</th>\n",
       "      <td>6900</td>\n",
       "      <td>8500</td>\n",
       "    </tr>\n",
       "    <tr>\n",
       "      <th>10</th>\n",
       "      <td>7250</td>\n",
       "      <td>9500</td>\n",
       "    </tr>\n",
       "    <tr>\n",
       "      <th>11</th>\n",
       "      <td>7350</td>\n",
       "      <td>6050</td>\n",
       "    </tr>\n",
       "    <tr>\n",
       "      <th>12</th>\n",
       "      <td>7500</td>\n",
       "      <td>8500</td>\n",
       "    </tr>\n",
       "    <tr>\n",
       "      <th>13</th>\n",
       "      <td>7800</td>\n",
       "      <td>9500</td>\n",
       "    </tr>\n",
       "    <tr>\n",
       "      <th>14</th>\n",
       "      <td>8200</td>\n",
       "      <td>8300</td>\n",
       "    </tr>\n",
       "    <tr>\n",
       "      <th>15</th>\n",
       "      <td>8500</td>\n",
       "      <td>6500</td>\n",
       "    </tr>\n",
       "    <tr>\n",
       "      <th>16</th>\n",
       "      <td>8550</td>\n",
       "      <td>8400</td>\n",
       "    </tr>\n",
       "    <tr>\n",
       "      <th>17</th>\n",
       "      <td>8750</td>\n",
       "      <td>6000</td>\n",
       "    </tr>\n",
       "    <tr>\n",
       "      <th>18</th>\n",
       "      <td>9100</td>\n",
       "      <td>10500</td>\n",
       "    </tr>\n",
       "    <tr>\n",
       "      <th>19</th>\n",
       "      <td>9200</td>\n",
       "      <td>8500</td>\n",
       "    </tr>\n",
       "    <tr>\n",
       "      <th>20</th>\n",
       "      <td>6000</td>\n",
       "      <td>8000</td>\n",
       "    </tr>\n",
       "    <tr>\n",
       "      <th>21</th>\n",
       "      <td>5000</td>\n",
       "      <td>4500</td>\n",
       "    </tr>\n",
       "    <tr>\n",
       "      <th>22</th>\n",
       "      <td>6700</td>\n",
       "      <td>5900</td>\n",
       "    </tr>\n",
       "    <tr>\n",
       "      <th>23</th>\n",
       "      <td>4600</td>\n",
       "      <td>5000</td>\n",
       "    </tr>\n",
       "    <tr>\n",
       "      <th>24</th>\n",
       "      <td>5700</td>\n",
       "      <td>8700</td>\n",
       "    </tr>\n",
       "    <tr>\n",
       "      <th>25</th>\n",
       "      <td>6800</td>\n",
       "      <td>5000</td>\n",
       "    </tr>\n",
       "    <tr>\n",
       "      <th>26</th>\n",
       "      <td>9010</td>\n",
       "      <td>7000</td>\n",
       "    </tr>\n",
       "    <tr>\n",
       "      <th>27</th>\n",
       "      <td>8010</td>\n",
       "      <td>7500</td>\n",
       "    </tr>\n",
       "    <tr>\n",
       "      <th>28</th>\n",
       "      <td>8100</td>\n",
       "      <td>8000</td>\n",
       "    </tr>\n",
       "    <tr>\n",
       "      <th>29</th>\n",
       "      <td>3500</td>\n",
       "      <td>3600</td>\n",
       "    </tr>\n",
       "  </tbody>\n",
       "</table>\n",
       "</div>"
      ],
      "text/plain": [
       "    gaji  pengeluaran\n",
       "0   2500         1750\n",
       "1   3800         4200\n",
       "2   3900         3800\n",
       "3   4350         5500\n",
       "4   4400         3200\n",
       "5   5500         5450\n",
       "6   5600         5950\n",
       "7   5750         4100\n",
       "8   6850         6050\n",
       "9   6900         8500\n",
       "10  7250         9500\n",
       "11  7350         6050\n",
       "12  7500         8500\n",
       "13  7800         9500\n",
       "14  8200         8300\n",
       "15  8500         6500\n",
       "16  8550         8400\n",
       "17  8750         6000\n",
       "18  9100        10500\n",
       "19  9200         8500\n",
       "20  6000         8000\n",
       "21  5000         4500\n",
       "22  6700         5900\n",
       "23  4600         5000\n",
       "24  5700         8700\n",
       "25  6800         5000\n",
       "26  9010         7000\n",
       "27  8010         7500\n",
       "28  8100         8000\n",
       "29  3500         3600"
      ]
     },
     "execution_count": 41,
     "metadata": {},
     "output_type": "execute_result"
    }
   ],
   "source": [
    "dataset"
   ]
  },
  {
   "cell_type": "code",
   "execution_count": 42,
   "metadata": {
    "colab": {},
    "colab_type": "code",
    "id": "PuCpolzYYMJ-"
   },
   "outputs": [],
   "source": [
    "# Step 3. Konversi Dataset ke Data Array \n",
    "X = np.asarray(dataset)"
   ]
  },
  {
   "cell_type": "markdown",
   "metadata": {
    "colab_type": "text",
    "id": "Hw_hz4EQYMKD"
   },
   "source": [
    "Langkah keempat adalah menampilkan Data Array ke dalam Scatter plot "
   ]
  },
  {
   "cell_type": "code",
   "execution_count": 43,
   "metadata": {
    "colab": {
     "base_uri": "https://localhost:8080/",
     "height": 312
    },
    "colab_type": "code",
    "executionInfo": {
     "elapsed": 864,
     "status": "ok",
     "timestamp": 1591364272103,
     "user": {
      "displayName": "Bernardus Ari Kuncoro",
      "photoUrl": "https://lh3.googleusercontent.com/a-/AOh14GjH6bHvm6kXCz5hjYp3PgXaOz-6orULR60KKCw5yw=s64",
      "userId": "07819531828965038709"
     },
     "user_tz": -420
    },
    "id": "HFGk0EPXYMKE",
    "outputId": "1e074113-fbb6-4bc4-dafb-27918945df6f"
   },
   "outputs": [
    {
     "data": {
      "text/plain": [
       "Text(0.5, 1.0, 'Grafik Konsumen')"
      ]
     },
     "execution_count": 43,
     "metadata": {},
     "output_type": "execute_result"
    },
    {
     "data": {
      "image/png": "[encoded data removed]",
      "text/plain": [
       "<Figure size 432x288 with 1 Axes>"
      ]
     },
     "metadata": {
      "needs_background": "light"
     },
     "output_type": "display_data"
    }
   ],
   "source": [
    "## Step 4. Menampilkan data ke dalam grafik scatterplot \n",
    "plt.scatter(X[:,0],X[:,1], label = 'True Position')\n",
    "plt.xlabel(\"Gaji\")\n",
    "plt.ylabel(\"Pengeluaran\")\n",
    "plt.title(\"Grafik Konsumen\")"
   ]
  },
  {
   "cell_type": "markdown",
   "metadata": {
    "colab_type": "text",
    "id": "rYvg4KBPYMKJ"
   },
   "source": [
    "Langkah kelima adalah melakukan algoritma K-Means dengan jumlah K yang ditentukan dengan scree plot"
   ]
  },
  {
   "cell_type": "code",
   "execution_count": 44,
   "metadata": {
    "colab": {
     "base_uri": "https://localhost:8080/",
     "height": 295
    },
    "colab_type": "code",
    "executionInfo": {
     "elapsed": 1213,
     "status": "ok",
     "timestamp": 1591364415211,
     "user": {
      "displayName": "Bernardus Ari Kuncoro",
      "photoUrl": "https://lh3.googleusercontent.com/a-/AOh14GjH6bHvm6kXCz5hjYp3PgXaOz-6orULR60KKCw5yw=s64",
      "userId": "07819531828965038709"
     },
     "user_tz": -420
    },
    "id": "ixgPeXSWYMKK",
    "outputId": "5531631d-c04d-4730-8393-21d06890c853"
   },
   "outputs": [
    {
     "data": {
      "image/png": "[encoded data removed]",
      "text/plain": [
       "<Figure size 432x288 with 1 Axes>"
      ]
     },
     "metadata": {
      "needs_background": "light"
     },
     "output_type": "display_data"
    }
   ],
   "source": [
    "Sum_of_squared_distances = []\n",
    "K = range(1,16)\n",
    "for k in K:\n",
    "    km = KMeans(n_clusters=k)\n",
    "    km = km.fit(X)\n",
    "    Sum_of_squared_distances.append(km.inertia_)\n",
    "\n",
    "plt.plot(K, Sum_of_squared_distances, 'bx-')\n",
    "plt.xlabel('k')\n",
    "plt.ylabel('Sum_of_squared_distances')\n",
    "plt.title('Elbow Method For Optimal k')\n",
    "plt.show()"
   ]
  },
  {
   "cell_type": "code",
   "execution_count": 45,
   "metadata": {
    "colab": {
     "base_uri": "https://localhost:8080/",
     "height": 67
    },
    "colab_type": "code",
    "executionInfo": {
     "elapsed": 827,
     "status": "ok",
     "timestamp": 1591364536948,
     "user": {
      "displayName": "Bernardus Ari Kuncoro",
      "photoUrl": "https://lh3.googleusercontent.com/a-/AOh14GjH6bHvm6kXCz5hjYp3PgXaOz-6orULR60KKCw5yw=s64",
      "userId": "07819531828965038709"
     },
     "user_tz": -420
    },
    "id": "xvunqgwUYMKP",
    "outputId": "cbb4a520-fa0f-4b87-9ace-03bc68615086"
   },
   "outputs": [
    {
     "data": {
      "text/plain": [
       "KMeans(n_clusters=3)"
      ]
     },
     "execution_count": 45,
     "metadata": {},
     "output_type": "execute_result"
    }
   ],
   "source": [
    "# Step 5. Melakukan aktivasi algoritma K-Means \n",
    "kmeans = KMeans(n_clusters=3)\n",
    "kmeans.fit(X)"
   ]
  },
  {
   "cell_type": "markdown",
   "metadata": {
    "colab_type": "text",
    "id": "tWbweMxQYMKU"
   },
   "source": [
    "Langkah keenam adalah menampilkan nilai centroid dan label data point "
   ]
  },
  {
   "cell_type": "code",
   "execution_count": 46,
   "metadata": {
    "colab": {
     "base_uri": "https://localhost:8080/",
     "height": 68
    },
    "colab_type": "code",
    "executionInfo": {
     "elapsed": 1115,
     "status": "ok",
     "timestamp": 1591342615709,
     "user": {
      "displayName": "Bernardus Ari Kuncoro",
      "photoUrl": "https://lh3.googleusercontent.com/a-/AOh14GjH6bHvm6kXCz5hjYp3PgXaOz-6orULR60KKCw5yw=s64",
      "userId": "07819531828965038709"
     },
     "user_tz": -420
    },
    "id": "UTA8CVnXYMKU",
    "outputId": "3d532d1a-a240-4382-bbfc-bf075c534bdf"
   },
   "outputs": [
    {
     "name": "stdout",
     "output_type": "stream",
     "text": [
      "[[7006.25       5862.5       ]\n",
      " [7793.84615385 8530.76923077]\n",
      " [4200.         3961.11111111]]\n"
     ]
    }
   ],
   "source": [
    "# Step 6. Menampilkan nilai centroid yang dibangkitkan oleh algoritma kmeans \n",
    "print(kmeans.cluster_centers_)"
   ]
  },
  {
   "cell_type": "code",
   "execution_count": 47,
   "metadata": {
    "colab": {
     "base_uri": "https://localhost:8080/",
     "height": 34
    },
    "colab_type": "code",
    "executionInfo": {
     "elapsed": 1218,
     "status": "ok",
     "timestamp": 1591342618505,
     "user": {
      "displayName": "Bernardus Ari Kuncoro",
      "photoUrl": "https://lh3.googleusercontent.com/a-/AOh14GjH6bHvm6kXCz5hjYp3PgXaOz-6orULR60KKCw5yw=s64",
      "userId": "07819531828965038709"
     },
     "user_tz": -420
    },
    "id": "TTm5OnEEYMKZ",
    "outputId": "44dd7afe-4177-4640-97d1-3a6892cbde04"
   },
   "outputs": [
    {
     "name": "stdout",
     "output_type": "stream",
     "text": [
      "[2 2 2 2 2 0 0 2 0 1 1 0 1 1 1 0 1 0 1 1 1 2 0 2 1 0 1 1 1 2]\n"
     ]
    }
   ],
   "source": [
    "print(kmeans.labels_)"
   ]
  },
  {
   "cell_type": "code",
   "execution_count": 48,
   "metadata": {
    "colab": {
     "base_uri": "https://localhost:8080/",
     "height": 521
    },
    "colab_type": "code",
    "executionInfo": {
     "elapsed": 1049,
     "status": "ok",
     "timestamp": 1591364632372,
     "user": {
      "displayName": "Bernardus Ari Kuncoro",
      "photoUrl": "https://lh3.googleusercontent.com/a-/AOh14GjH6bHvm6kXCz5hjYp3PgXaOz-6orULR60KKCw5yw=s64",
      "userId": "07819531828965038709"
     },
     "user_tz": -420
    },
    "id": "968fIvNmYMKe",
    "outputId": "ce6201a8-3dcb-4e50-9605-3fdaa69a0edf"
   },
   "outputs": [
    {
     "data": {
      "text/plain": [
       "array([[ 2500,  1750],\n",
       "       [ 3800,  4200],\n",
       "       [ 3900,  3800],\n",
       "       [ 4350,  5500],\n",
       "       [ 4400,  3200],\n",
       "       [ 5500,  5450],\n",
       "       [ 5600,  5950],\n",
       "       [ 5750,  4100],\n",
       "       [ 6850,  6050],\n",
       "       [ 6900,  8500],\n",
       "       [ 7250,  9500],\n",
       "       [ 7350,  6050],\n",
       "       [ 7500,  8500],\n",
       "       [ 7800,  9500],\n",
       "       [ 8200,  8300],\n",
       "       [ 8500,  6500],\n",
       "       [ 8550,  8400],\n",
       "       [ 8750,  6000],\n",
       "       [ 9100, 10500],\n",
       "       [ 9200,  8500],\n",
       "       [ 6000,  8000],\n",
       "       [ 5000,  4500],\n",
       "       [ 6700,  5900],\n",
       "       [ 4600,  5000],\n",
       "       [ 5700,  8700],\n",
       "       [ 6800,  5000],\n",
       "       [ 9010,  7000],\n",
       "       [ 8010,  7500],\n",
       "       [ 8100,  8000],\n",
       "       [ 3500,  3600]], dtype=int64)"
      ]
     },
     "execution_count": 48,
     "metadata": {},
     "output_type": "execute_result"
    }
   ],
   "source": [
    "a = kmeans.labels_\n",
    "X"
   ]
  },
  {
   "cell_type": "markdown",
   "metadata": {
    "colab_type": "text",
    "id": "Q0_DHOUuYMKj"
   },
   "source": [
    "Langkah ketujuh adalah visualisasi hasil clustering"
   ]
  },
  {
   "cell_type": "code",
   "execution_count": 49,
   "metadata": {
    "colab": {
     "base_uri": "https://localhost:8080/",
     "height": 295
    },
    "colab_type": "code",
    "executionInfo": {
     "elapsed": 922,
     "status": "ok",
     "timestamp": 1591364707416,
     "user": {
      "displayName": "Bernardus Ari Kuncoro",
      "photoUrl": "https://lh3.googleusercontent.com/a-/AOh14GjH6bHvm6kXCz5hjYp3PgXaOz-6orULR60KKCw5yw=s64",
      "userId": "07819531828965038709"
     },
     "user_tz": -420
    },
    "id": "DgBDWV3jYMKk",
    "outputId": "0ed4f630-6d8e-4949-ab0b-7a45b054210a"
   },
   "outputs": [
    {
     "data": {
      "image/png": "[encoded data removed]",
      "text/plain": [
       "<Figure size 432x288 with 1 Axes>"
      ]
     },
     "metadata": {
      "needs_background": "light"
     },
     "output_type": "display_data"
    }
   ],
   "source": [
    "# Step 7 Visualisasi Hasil \n",
    "plt.scatter(X[:,0],X[:,1], c=kmeans.labels_, cmap='rainbow')\n",
    "plt.xlabel(\"Gaji\")\n",
    "plt.ylabel(\"Pengeluaran\")\n",
    "plt.title(\"Grafik Konsumen\")\n",
    "plt.show()"
   ]
  },
  {
   "cell_type": "code",
   "execution_count": 50,
   "metadata": {
    "colab": {
     "base_uri": "https://localhost:8080/",
     "height": 295
    },
    "colab_type": "code",
    "executionInfo": {
     "elapsed": 948,
     "status": "ok",
     "timestamp": 1591364715652,
     "user": {
      "displayName": "Bernardus Ari Kuncoro",
      "photoUrl": "https://lh3.googleusercontent.com/a-/AOh14GjH6bHvm6kXCz5hjYp3PgXaOz-6orULR60KKCw5yw=s64",
      "userId": "07819531828965038709"
     },
     "user_tz": -420
    },
    "id": "Tb9ZsN9TYMKn",
    "outputId": "033b9efe-cb47-414f-f616-92290242cdc0"
   },
   "outputs": [
    {
     "data": {
      "image/png": "[encoded data removed]",
      "text/plain": [
       "<Figure size 432x288 with 1 Axes>"
      ]
     },
     "metadata": {
      "needs_background": "light"
     },
     "output_type": "display_data"
    }
   ],
   "source": [
    "# Step 8 Menampilkan hasil centroid \n",
    "plt.scatter(X[:,0],X[:,1], c=kmeans.labels_, cmap='rainbow')\n",
    "plt.scatter(kmeans.cluster_centers_[:,0],kmeans.cluster_centers_[:,1],color='black')\n",
    "plt.xlabel(\"Gaji\")\n",
    "plt.ylabel(\"Pengeluaran\")\n",
    "plt.title(\"Grafik Konsumen\")\n",
    "plt.show()"
   ]
  },
  {
   "cell_type": "code",
   "execution_count": 51,
   "metadata": {
    "colab": {},
    "colab_type": "code",
    "id": "PFrZbH9PYMKs"
   },
   "outputs": [],
   "source": [
    "# Memasukkan hasil label ke dalam suatu data frame \n",
    "data_clustered = pd.DataFrame(X)\n",
    "data_clustered['cluster'] = pd.DataFrame(kmeans.labels_)\n",
    "data_clustered = data_clustered.sort_values('cluster')\n",
    "data_clustered = np.asarray(data_clustered)"
   ]
  },
  {
   "cell_type": "code",
   "execution_count": 52,
   "metadata": {
    "colab": {
     "base_uri": "https://localhost:8080/",
     "height": 521
    },
    "colab_type": "code",
    "executionInfo": {
     "elapsed": 894,
     "status": "ok",
     "timestamp": 1591364737229,
     "user": {
      "displayName": "Bernardus Ari Kuncoro",
      "photoUrl": "https://lh3.googleusercontent.com/a-/AOh14GjH6bHvm6kXCz5hjYp3PgXaOz-6orULR60KKCw5yw=s64",
      "userId": "07819531828965038709"
     },
     "user_tz": -420
    },
    "id": "ciEcHQs2bT2Z",
    "outputId": "36e2b6d6-863c-4faa-9a5f-9ee90a271552"
   },
   "outputs": [
    {
     "data": {
      "text/plain": [
       "array([[ 6700,  5900,     0],\n",
       "       [ 6800,  5000,     0],\n",
       "       [ 8750,  6000,     0],\n",
       "       [ 5500,  5450,     0],\n",
       "       [ 5600,  5950,     0],\n",
       "       [ 6850,  6050,     0],\n",
       "       [ 8500,  6500,     0],\n",
       "       [ 7350,  6050,     0],\n",
       "       [ 9200,  8500,     1],\n",
       "       [ 9100, 10500,     1],\n",
       "       [ 8550,  8400,     1],\n",
       "       [ 8100,  8000,     1],\n",
       "       [ 7800,  9500,     1],\n",
       "       [ 8200,  8300,     1],\n",
       "       [ 6000,  8000,     1],\n",
       "       [ 6900,  8500,     1],\n",
       "       [ 5700,  8700,     1],\n",
       "       [ 9010,  7000,     1],\n",
       "       [ 8010,  7500,     1],\n",
       "       [ 7500,  8500,     1],\n",
       "       [ 7250,  9500,     1],\n",
       "       [ 4600,  5000,     2],\n",
       "       [ 2500,  1750,     2],\n",
       "       [ 5750,  4100,     2],\n",
       "       [ 4400,  3200,     2],\n",
       "       [ 4350,  5500,     2],\n",
       "       [ 3900,  3800,     2],\n",
       "       [ 3800,  4200,     2],\n",
       "       [ 5000,  4500,     2],\n",
       "       [ 3500,  3600,     2]], dtype=int64)"
      ]
     },
     "execution_count": 52,
     "metadata": {},
     "output_type": "execute_result"
    }
   ],
   "source": [
    "data_clustered"
   ]
  },
  {
   "cell_type": "code",
   "execution_count": 53,
   "metadata": {
    "colab": {
     "base_uri": "https://localhost:8080/",
     "height": 266
    },
    "colab_type": "code",
    "executionInfo": {
     "elapsed": 1017,
     "status": "ok",
     "timestamp": 1591364746044,
     "user": {
      "displayName": "Bernardus Ari Kuncoro",
      "photoUrl": "https://lh3.googleusercontent.com/a-/AOh14GjH6bHvm6kXCz5hjYp3PgXaOz-6orULR60KKCw5yw=s64",
      "userId": "07819531828965038709"
     },
     "user_tz": -420
    },
    "id": "GY8itLYPYMKv",
    "outputId": "5fa4621b-e507-4c73-a6db-309412299553"
   },
   "outputs": [
    {
     "data": {
      "image/png": "[encoded data removed]",
      "text/plain": [
       "<Figure size 432x288 with 1 Axes>"
      ]
     },
     "metadata": {
      "needs_background": "light"
     },
     "output_type": "display_data"
    }
   ],
   "source": [
    "# Membuat similarity Matrix \n",
    "from scipy.spatial.distance import cdist\n",
    "dist = cdist(data_clustered[:,0:2],data_clustered[:,0:2], metric='euclidean')\n",
    "plt.imshow(dist)\n",
    "plt.show()"
   ]
  },
  {
   "cell_type": "code",
   "execution_count": 54,
   "metadata": {
    "colab": {},
    "colab_type": "code",
    "id": "-xUj6YkVYMK1"
   },
   "outputs": [],
   "source": [
    "# Menghitung Dunn's index \n",
    "# Mengingat tidak ada function Dunn's Index dalam sklearn, kita gunakan alternatif lain yaitu DB Index. \n",
    "# Silakan baca referensi berikut dan bisa dilakukan menginstall di laptop"
   ]
  },
  {
   "cell_type": "markdown",
   "metadata": {
    "colab_type": "text",
    "id": "QQqQQsvdYMK5"
   },
   "source": [
    "Referensi: https://www.geeksforgeeks.org/dunn-index-and-db-index-cluster-validity-indices-set-1/ \n",
    "\n",
    "https://github.com/jqmviegas/jqm_cvi\n",
    "\n"
   ]
  },
  {
   "cell_type": "code",
   "execution_count": 55,
   "metadata": {
    "colab": {},
    "colab_type": "code",
    "id": "S2KHE2qcYMK6"
   },
   "outputs": [],
   "source": [
    "# Namun ketika dicoba, package sklearn mesti dinaikkan versinya menjadi versi 0.21.2\n",
    "# Alternatif lain, kita bisa melakukan pembuatan function seperti pada referensi berikut ini: "
   ]
  },
  {
   "cell_type": "markdown",
   "metadata": {
    "colab_type": "text",
    "id": "hVy8b541YMK_"
   },
   "source": [
    "Referensi: https://gist.github.com/douglasrizzo/cd7e792ff3a2dcaf27f6"
   ]
  }
 ],
 "metadata": {
  "colab": {
   "name": "KMeansClustering.ipynb",
   "provenance": []
  },
  "kernelspec": {
   "display_name": "Python 3",
   "language": "python",
   "name": "python3"
  },
  "language_info": {
   "codemirror_mode": {
    "name": "ipython",
    "version": 3
   },
   "file_extension": ".py",
   "mimetype": "text/x-python",
   "name": "python",
   "nbconvert_exporter": "python",
   "pygments_lexer": "ipython3",
   "version": "3.8.3"
  }
 },
 "nbformat": 4,
 "nbformat_minor": 1
}
